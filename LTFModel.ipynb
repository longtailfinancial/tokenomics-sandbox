{
 "cells": [
  {
   "cell_type": "markdown",
   "metadata": {},
   "source": [
    "\"\"\"## Created on Thu Jun 17 07:59:36 2021 ## @author: Mike@Longtail\n",
    "\n",
    "OVERVIEW\n",
    "\n",
    "To establish;\n",
    "Consensus on pay moving forward\n",
    "Rewards system (ideas for integration with Go Forward Pay to be discussed)\n",
    "\n",
    "Scenario analysis under; \n",
    "start_up mode, \n",
    "step_up mode, \n",
    "sustained mode, and\n",
    "future mode\n",
    "\n",
    "GOALS\n",
    " - established “Mode” pay,\n",
    " - frequency of pay, and \n",
    " - future changes.\n",
    "\"\"\""
   ]
  },
  {
   "cell_type": "code",
   "execution_count": 14,
   "metadata": {},
   "outputs": [],
   "source": [
    "# $4KCAD for all developers\n",
    "\n",
    "# LTF Cost is Operational Buffer\n",
    "\n",
    "# Step up Mode     ; $2000\n",
    "# Sustained Mode   ; $4000 - Dev\n",
    "#                  ; $3000 - Non Dev\n",
    "# Future Mode      ; $6000 - Dev\n",
    "#                  ; $4000 - Non Dev\n",
    "\n",
    "# Step 1: which activity bracket does a resource fall in\n",
    "# Step 2: which mode is the LTF at for the month\n",
    "# Step 3: set distribution schedule"
   ]
  },
  {
   "cell_type": "code",
   "execution_count": 15,
   "metadata": {},
   "outputs": [
    {
     "name": "stdout",
     "output_type": "stream",
     "text": [
      "# exchange rate 1.25\n",
      "# Core staff 6\n",
      "# Developers for Business 8\n",
      "# Operating Costs for LTF 0.0\n",
      "# Monthly Available LTF DEV Hours to Invoice 720\n",
      "# LTF goal in monthly revenue, need to HRly charge of = 83.50730688935282\n"
     ]
    }
   ],
   "source": [
    "USD = 1.25          \n",
    "print('# exchange rate', USD) \n",
    "core = 6 #liam, katie, aidan, dr.P, molly, Juggad\t\t\t\n",
    "print('# Core staff', core)\n",
    "dev = 8 #momo, bk, austin, taz, jake, MD, Shawn\t\t\t\n",
    "print('# Developers for Business', dev)\n",
    "FC = 0/USD\n",
    "print('# Operating Costs for LTF', FC)\n",
    "hrs = 30 * 4\n",
    "print('# Monthly Available LTF DEV Hours to Invoice', hrs * (dev-2))\n",
    "LTF_RR = 80000 / (hrs * dev-2)\n",
    "print('# LTF goal in monthly revenue, need to HRly charge of =',LTF_RR)"
   ]
  },
  {
   "cell_type": "code",
   "execution_count": 16,
   "metadata": {},
   "outputs": [
    {
     "name": "stdout",
     "output_type": "stream",
     "text": [
      "LTF REVENUE PROJECTIONS // STATES FOR PAY **** all quoted in USD ****\n",
      "\n",
      "<< Step Up scenario >> MONTHLY\n",
      "\n",
      "3200.0 =  Pay for LTF Developers\n",
      "2000 =  Pay for LTF Core members\n",
      "25600.0 =  TOTAL Dev Labour Cost to LTF\n",
      "12000 = TOTAL Core Labour Cost to LTF\n",
      "37600.0 = Total costs, including LTF Rent\n",
      "52.22222222222222 = B/E charge out for Projects\n"
     ]
    }
   ],
   "source": [
    "Pay_dev_stepup = (4000 / USD)\t\t# $CAD\n",
    "Pay_core_stepup = 2000      \n",
    "Pay_dev_sus = 4000          \n",
    "Pay_core_sus= 3000\n",
    "Pay_dev_fut= 8000\n",
    "Pay_core_fut= 6000\n",
    "print('LTF REVENUE PROJECTIONS // STATES FOR PAY **** all quoted in USD ****' )\n",
    "print()\n",
    "print('<< Step Up scenario >> MONTHLY')\n",
    "print()\n",
    "cost_dev = Pay_dev_stepup * dev\n",
    "cost_core = Pay_core_stepup * core\n",
    "print(Pay_dev_stepup,'=  Pay for LTF Developers')\n",
    "print(Pay_core_stepup,'=  Pay for LTF Core members')\n",
    "print (cost_dev, '=  TOTAL Dev Labour Cost to LTF') \n",
    "print (cost_core, '= TOTAL Core Labour Cost to LTF')\n",
    "TC_TEAM = cost_dev + cost_core\t# total cost of labour\n",
    "print (FC + TC_TEAM, '= Total costs, including LTF Rent') \n",
    "print ((FC + TC_TEAM)/((dev-2) * hrs), '= B/E charge out for Projects')"
   ]
  },
  {
   "cell_type": "code",
   "execution_count": 17,
   "metadata": {},
   "outputs": [
    {
     "name": "stdout",
     "output_type": "stream",
     "text": [
      "38400.0\n",
      "24000\n",
      "87552.0 annual salary at NOC wage average of $ 45.6 per hr\n",
      "87552.0 Actual Wage @ 30 hrs / per week $ 60.8 per hr\n"
     ]
    }
   ],
   "source": [
    "print(Pay_dev_stepup*12)\n",
    "print(Pay_core_stepup*12)\n",
    "NOC = 57/USD\n",
    "a = NOC * 160 * 12\n",
    "print (a,'annual salary at NOC wage average of $', NOC,'per hr')\n",
    "print (a,'Actual Wage @ 30 hrs / per week $', a/12/120,'per hr')"
   ]
  },
  {
   "cell_type": "code",
   "execution_count": 18,
   "metadata": {},
   "outputs": [
    {
     "name": "stdout",
     "output_type": "stream",
     "text": [
      "LTF REVENUE PROJECTIONS // STATES FOR PAY **** all quoted in USD ****\n",
      "\n",
      "<< Sustained scenario >> MONTHLY\n",
      "\n",
      "4000 = Pay for LTF Developers\n",
      "3000 = Pay for LTF Core members\n",
      "24000 = total Core Labour Cost to LTF\n",
      "24000 =  total Dev Labour Cost to LTF\n",
      "48000.0 = Total costs, including LTF Rent\n",
      "66.66666666666667 = B/E charge out for Projects\n"
     ]
    }
   ],
   "source": [
    "print('LTF REVENUE PROJECTIONS // STATES FOR PAY **** all quoted in USD ****' )\n",
    "print()\n",
    "print('<< Sustained scenario >> MONTHLY'), print()\n",
    "cost_dev = (Pay_dev_sus * (dev-2))\n",
    "cost_core = Pay_core_sus * (core + 2)\n",
    "print(Pay_dev_sus,'= Pay for LTF Developers')\n",
    "print(Pay_core_sus,'= Pay for LTF Core members')\n",
    "print (cost_core, '= total Core Labour Cost to LTF')\n",
    "print (cost_dev, '=  total Dev Labour Cost to LTF') \n",
    "TC_TEAM = cost_dev + cost_core\t# total cost of labour\n",
    "print (FC + TC_TEAM, '= Total costs, including LTF Rent') \n",
    "print ((FC + TC_TEAM)/((dev-2) * hrs), '= B/E charge out for Projects')"
   ]
  },
  {
   "cell_type": "code",
   "execution_count": 19,
   "metadata": {},
   "outputs": [
    {
     "name": "stdout",
     "output_type": "stream",
     "text": [
      "*** LTF Charge Rates ***\n",
      "\n",
      "200.41753653444675 If a partner wants LTF resources for < day or on an hourly basis\n",
      "150.31315240083507 If a partner wants LTF resources for > day but not long term\n",
      "100.20876826722338 If a partner wants LTF resources for long term projects\n"
     ]
    }
   ],
   "source": [
    "print('*** LTF Charge Rates ***')\n",
    "print()\n",
    "print(LTF_RR*2.40,'If a partner wants LTF resources for < day or on an hourly basis')\n",
    "print(LTF_RR*1.80,'If a partner wants LTF resources for > day but not long term')\n",
    "print(LTF_RR*1.20,'If a partner wants LTF resources for long term projects')"
   ]
  },
  {
   "cell_type": "code",
   "execution_count": 20,
   "metadata": {},
   "outputs": [
    {
     "name": "stdout",
     "output_type": "stream",
     "text": [
      "LTF Senior Data Scientist    :  2.0\n",
      "Monthly hrs of LTF resources :  500.0\n",
      "Cost                         :  50000.0\n",
      "\n",
      "LTF Junior Data Scientist    :  0.5\n",
      "Monthly hrs of LTF resources :  125.0\n",
      "Cost                         :  8750.0\n",
      "\n",
      "LTF Chief Data Scientist     :  1.0\n",
      "Monthly hrs of LTF resources :  100.0\n",
      "Cost                         :  15000.0\n",
      "\n",
      "LTF Support Resources        :  1.0\n",
      "Monthly hrs of LTF resources :  25.0\n",
      "Cost                         :  1750.0\n",
      "\n",
      "Total Cost per month         :  75500.0\n",
      "Total Cost for 2.5 work months     :  188750.0\n"
     ]
    }
   ],
   "source": [
    "''' Quotation Code :\n",
    "# we need to know the length of time needed of LTF resources\n",
    "# how much do we charge out \n",
    "# how many resources do we allocate\n",
    "'''\n",
    "# print('Monthly Projected Costs      : ', 50000), print()\n",
    "\n",
    "work_months = 2.5\n",
    "\n",
    "devS = 2.0\n",
    "print('LTF Senior Data Scientist    : ', devS) \n",
    "work = work_months * 100    #hrs worked per month\n",
    "LTF_cost = 100    #LTF Charge rate\n",
    "print('Monthly hrs of LTF resources : ', work * devS)\n",
    "print('Cost                         : ', LTF_cost * work * devS)\n",
    "totaldevS = LTF_cost * work * devS\n",
    "print()\n",
    "\n",
    "devJ = 0.5\n",
    "print('LTF Junior Data Scientist    : ', devJ) \n",
    "work = work_months * 100\n",
    "LTF_cost = 70\n",
    "print('Monthly hrs of LTF resources : ', work * devJ)\n",
    "print('Cost                         : ', LTF_cost * work * devJ)\n",
    "totaldevJ = LTF_cost * work * devJ\n",
    "print()\n",
    "\n",
    "dev_resSA = 1.0\n",
    "print('LTF Chief Data Scientist     : ', dev_resSA) \n",
    "work = work_months * 40\n",
    "LTF_cost = 150\n",
    "print('Monthly hrs of LTF resources : ', work * dev_resSA)\n",
    "print('Cost                         : ', LTF_cost * work * dev_resSA)\n",
    "print()\n",
    "totalSA = LTF_cost * work * dev_resSA\n",
    "\n",
    "dev_resNN = 1.0\n",
    "print('LTF Support Resources        : ', dev_resNN) \n",
    "work = work_months * 10\n",
    "LTF_cost = 70\n",
    "print('Monthly hrs of LTF resources : ', work * dev_resNN)\n",
    "print('Cost                         : ', LTF_cost * work * dev_resNN)\n",
    "totalNN = LTF_cost * work * dev_resNN\n",
    "print()\n",
    "proj_est = (totaldevS + totaldevJ + totalNN + totalSA)\n",
    "print('Total Cost per month         : ', proj_est)\n",
    "print('Total Cost for', work_months,'work months     : ', proj_est*work_months)"
   ]
  },
  {
   "cell_type": "code",
   "execution_count": 21,
   "metadata": {},
   "outputs": [
    {
     "data": {
      "text/plain": [
       "75500.0"
      ]
     },
     "execution_count": 21,
     "metadata": {},
     "output_type": "execute_result"
    }
   ],
   "source": [
    "66750.0 + 8750.0"
   ]
  },
  {
   "cell_type": "code",
   "execution_count": 22,
   "metadata": {},
   "outputs": [
    {
     "name": "stdout",
     "output_type": "stream",
     "text": [
      "\n",
      "LTF Junior Data Scientist    :  1.0\n",
      "Monthly hrs of LTF resources :  35.0\n",
      "Cost                         :  2450.0\n",
      "\n"
     ]
    }
   ],
   "source": [
    "print(\"\")\n",
    "work_months = .25\n",
    "\n",
    "devJ = 1.0\n",
    "print('LTF Junior Data Scientist    : ', devJ) \n",
    "work = work_months * 140\n",
    "LTF_cost = 70\n",
    "print('Monthly hrs of LTF resources : ', work * devJ)\n",
    "print('Cost                         : ', LTF_cost * work * devJ)\n",
    "totaldevJ = LTF_cost * work * devJ\n",
    "print()"
   ]
  },
  {
   "cell_type": "code",
   "execution_count": 23,
   "metadata": {},
   "outputs": [
    {
     "name": "stdout",
     "output_type": "stream",
     "text": [
      "LTF Junior Data Scientist    :  1.0\n",
      "Monthly hrs of LTF resources :  35.0\n",
      "Cost                         :  2450.0\n",
      "\n"
     ]
    }
   ],
   "source": [
    "work_months = .25\n",
    "\n",
    "devJ = 1.0\n",
    "print('LTF Junior Data Scientist    : ', devJ) \n",
    "work = work_months * 140\n",
    "LTF_cost = 70\n",
    "print('Monthly hrs of LTF resources : ', work * devJ)\n",
    "print('Cost                         : ', LTF_cost * work * devJ)\n",
    "totaldevJ = LTF_cost * work * devJ\n",
    "print()"
   ]
  },
  {
   "cell_type": "code",
   "execution_count": 24,
   "metadata": {},
   "outputs": [
    {
     "name": "stdout",
     "output_type": "stream",
     "text": [
      "LTF Junior Data Scientist    :  1.0\n",
      "Monthly hrs of LTF resources :  35.0\n",
      "Cost                         :  2450.0\n",
      "\n"
     ]
    }
   ],
   "source": [
    "work_months = .25\n",
    "\n",
    "devJ = 1.0\n",
    "print('LTF Junior Data Scientist    : ', devJ) \n",
    "work = work_months * 140\n",
    "LTF_cost = 70\n",
    "print('Monthly hrs of LTF resources : ', work * devJ)\n",
    "print('Cost                         : ', LTF_cost * work * devJ)\n",
    "totaldevJ = LTF_cost * work * devJ\n",
    "print()"
   ]
  },
  {
   "cell_type": "code",
   "execution_count": 25,
   "metadata": {},
   "outputs": [
    {
     "name": "stdout",
     "output_type": "stream",
     "text": [
      "LTF Junior Data Scientist    :  1.0\n",
      "Monthly hrs of LTF resources :  35.0\n",
      "Cost                         :  2450.0\n",
      "\n"
     ]
    }
   ],
   "source": [
    "work_months = .25\n",
    "\n",
    "devJ = 1.0\n",
    "print('LTF Junior Data Scientist    : ', devJ) \n",
    "work = work_months * 140\n",
    "LTF_cost = 70\n",
    "print('Monthly hrs of LTF resources : ', work * devJ)\n",
    "print('Cost                         : ', LTF_cost * work * devJ)\n",
    "totaldevJ = LTF_cost * work * devJ\n",
    "print()"
   ]
  },
  {
   "cell_type": "code",
   "execution_count": null,
   "metadata": {},
   "outputs": [],
   "source": []
  },
  {
   "cell_type": "code",
   "execution_count": null,
   "metadata": {},
   "outputs": [],
   "source": []
  }
 ],
 "metadata": {
  "kernelspec": {
   "display_name": "Python 3 (ipykernel)",
   "language": "python",
   "name": "python3"
  },
  "language_info": {
   "codemirror_mode": {
    "name": "ipython",
    "version": 3
   },
   "file_extension": ".py",
   "mimetype": "text/x-python",
   "name": "python",
   "nbconvert_exporter": "python",
   "pygments_lexer": "ipython3",
   "version": "3.9.7"
  }
 },
 "nbformat": 4,
 "nbformat_minor": 4
}
